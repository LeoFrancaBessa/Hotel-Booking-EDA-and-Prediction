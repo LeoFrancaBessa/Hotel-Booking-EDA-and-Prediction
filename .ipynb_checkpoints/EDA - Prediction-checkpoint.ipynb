{
 "cells": [
  {
   "cell_type": "markdown",
   "metadata": {},
   "source": [
    "# Import"
   ]
  },
  {
   "cell_type": "code",
   "execution_count": 100,
   "metadata": {},
   "outputs": [],
   "source": [
    "import pandas as pd\n",
    "import numpy as np\n",
    "import matplotlib.pyplot as plt\n",
    "import seaborn as sns\n",
    "import scipy.stats as stats\n",
    "from time import strptime\n",
    "from sklearn.model_selection import train_test_split\n",
    "from xgboost import XGBClassifier\n",
    "from sklearn.metrics import accuracy_score\n",
    "\n",
    "sns.set_style(\"whitegrid\")\n",
    "import warnings\n",
    "warnings.filterwarnings(\"ignore\")\n",
    "pd.set_option('display.max_columns', None)\n",
    "pd.set_option('display.max_rows', None)"
   ]
  },
  {
   "cell_type": "code",
   "execution_count": 2,
   "metadata": {},
   "outputs": [],
   "source": [
    "data = pd.read_csv('hotel_bookings.csv')"
   ]
  },
  {
   "cell_type": "markdown",
   "metadata": {},
   "source": [
    "# Data Info"
   ]
  },
  {
   "cell_type": "code",
   "execution_count": 3,
   "metadata": {
    "scrolled": true
   },
   "outputs": [
    {
     "data": {
      "text/plain": [
       "(119390, 32)"
      ]
     },
     "execution_count": 3,
     "metadata": {},
     "output_type": "execute_result"
    }
   ],
   "source": [
    "data.shape"
   ]
  },
  {
   "cell_type": "code",
   "execution_count": 4,
   "metadata": {},
   "outputs": [],
   "source": [
    "data.drop(['reservation_status', 'reservation_status_date'], axis=1, inplace=True)"
   ]
  },
  {
   "cell_type": "code",
   "execution_count": 84,
   "metadata": {},
   "outputs": [
    {
     "data": {
      "text/html": [
       "<div>\n",
       "<style scoped>\n",
       "    .dataframe tbody tr th:only-of-type {\n",
       "        vertical-align: middle;\n",
       "    }\n",
       "\n",
       "    .dataframe tbody tr th {\n",
       "        vertical-align: top;\n",
       "    }\n",
       "\n",
       "    .dataframe thead th {\n",
       "        text-align: right;\n",
       "    }\n",
       "</style>\n",
       "<table border=\"1\" class=\"dataframe\">\n",
       "  <thead>\n",
       "    <tr style=\"text-align: right;\">\n",
       "      <th></th>\n",
       "      <th>hotel</th>\n",
       "      <th>is_canceled</th>\n",
       "      <th>lead_time</th>\n",
       "      <th>arrival_date_month</th>\n",
       "      <th>stays_in_weekend_nights</th>\n",
       "      <th>stays_in_week_nights</th>\n",
       "      <th>meal</th>\n",
       "      <th>market_segment</th>\n",
       "      <th>distribution_channel</th>\n",
       "      <th>previous_cancellations</th>\n",
       "      <th>assigned_room_type</th>\n",
       "      <th>booking_changes</th>\n",
       "      <th>deposit_type</th>\n",
       "      <th>customer_type</th>\n",
       "      <th>adr</th>\n",
       "      <th>adr_per</th>\n",
       "      <th>agent_level</th>\n",
       "      <th>required_car_parking_spaces</th>\n",
       "      <th>total_of_special_requests</th>\n",
       "    </tr>\n",
       "  </thead>\n",
       "  <tbody>\n",
       "    <tr>\n",
       "      <th>2</th>\n",
       "      <td>Resort Hotel</td>\n",
       "      <td>0</td>\n",
       "      <td>7</td>\n",
       "      <td>(6, 9]</td>\n",
       "      <td>0</td>\n",
       "      <td>(0, 3]</td>\n",
       "      <td>BB</td>\n",
       "      <td>Direct</td>\n",
       "      <td>Direct</td>\n",
       "      <td>0</td>\n",
       "      <td>C</td>\n",
       "      <td>0</td>\n",
       "      <td>No Deposit</td>\n",
       "      <td>Transient</td>\n",
       "      <td>75.0</td>\n",
       "      <td>75.00</td>\n",
       "      <td>lvl3</td>\n",
       "      <td>Zero</td>\n",
       "      <td>0</td>\n",
       "    </tr>\n",
       "    <tr>\n",
       "      <th>3</th>\n",
       "      <td>Resort Hotel</td>\n",
       "      <td>0</td>\n",
       "      <td>13</td>\n",
       "      <td>(6, 9]</td>\n",
       "      <td>0</td>\n",
       "      <td>(0, 3]</td>\n",
       "      <td>BB</td>\n",
       "      <td>Corporate</td>\n",
       "      <td>Corporate</td>\n",
       "      <td>0</td>\n",
       "      <td>A</td>\n",
       "      <td>0</td>\n",
       "      <td>No Deposit</td>\n",
       "      <td>Transient</td>\n",
       "      <td>75.0</td>\n",
       "      <td>75.00</td>\n",
       "      <td>lvl4</td>\n",
       "      <td>Zero</td>\n",
       "      <td>0</td>\n",
       "    </tr>\n",
       "    <tr>\n",
       "      <th>4</th>\n",
       "      <td>Resort Hotel</td>\n",
       "      <td>0</td>\n",
       "      <td>14</td>\n",
       "      <td>(6, 9]</td>\n",
       "      <td>0</td>\n",
       "      <td>(0, 3]</td>\n",
       "      <td>BB</td>\n",
       "      <td>Online TA</td>\n",
       "      <td>TA/TO</td>\n",
       "      <td>0</td>\n",
       "      <td>A</td>\n",
       "      <td>0</td>\n",
       "      <td>No Deposit</td>\n",
       "      <td>Transient</td>\n",
       "      <td>98.0</td>\n",
       "      <td>49.00</td>\n",
       "      <td>lvl3</td>\n",
       "      <td>Zero</td>\n",
       "      <td>1</td>\n",
       "    </tr>\n",
       "    <tr>\n",
       "      <th>5</th>\n",
       "      <td>Resort Hotel</td>\n",
       "      <td>0</td>\n",
       "      <td>14</td>\n",
       "      <td>(6, 9]</td>\n",
       "      <td>0</td>\n",
       "      <td>(0, 3]</td>\n",
       "      <td>BB</td>\n",
       "      <td>Online TA</td>\n",
       "      <td>TA/TO</td>\n",
       "      <td>0</td>\n",
       "      <td>A</td>\n",
       "      <td>0</td>\n",
       "      <td>No Deposit</td>\n",
       "      <td>Transient</td>\n",
       "      <td>98.0</td>\n",
       "      <td>49.00</td>\n",
       "      <td>lvl3</td>\n",
       "      <td>Zero</td>\n",
       "      <td>1</td>\n",
       "    </tr>\n",
       "    <tr>\n",
       "      <th>6</th>\n",
       "      <td>Resort Hotel</td>\n",
       "      <td>0</td>\n",
       "      <td>0</td>\n",
       "      <td>(6, 9]</td>\n",
       "      <td>0</td>\n",
       "      <td>(0, 3]</td>\n",
       "      <td>BB</td>\n",
       "      <td>Direct</td>\n",
       "      <td>Direct</td>\n",
       "      <td>0</td>\n",
       "      <td>C</td>\n",
       "      <td>0</td>\n",
       "      <td>No Deposit</td>\n",
       "      <td>Transient</td>\n",
       "      <td>107.0</td>\n",
       "      <td>53.50</td>\n",
       "      <td>lvl3</td>\n",
       "      <td>Zero</td>\n",
       "      <td>0</td>\n",
       "    </tr>\n",
       "    <tr>\n",
       "      <th>7</th>\n",
       "      <td>Resort Hotel</td>\n",
       "      <td>0</td>\n",
       "      <td>9</td>\n",
       "      <td>(6, 9]</td>\n",
       "      <td>0</td>\n",
       "      <td>(0, 3]</td>\n",
       "      <td>FB</td>\n",
       "      <td>Direct</td>\n",
       "      <td>Direct</td>\n",
       "      <td>0</td>\n",
       "      <td>C</td>\n",
       "      <td>0</td>\n",
       "      <td>No Deposit</td>\n",
       "      <td>Transient</td>\n",
       "      <td>103.0</td>\n",
       "      <td>51.50</td>\n",
       "      <td>lvl5</td>\n",
       "      <td>Zero</td>\n",
       "      <td>1</td>\n",
       "    </tr>\n",
       "    <tr>\n",
       "      <th>8</th>\n",
       "      <td>Resort Hotel</td>\n",
       "      <td>1</td>\n",
       "      <td>85</td>\n",
       "      <td>(6, 9]</td>\n",
       "      <td>0</td>\n",
       "      <td>(0, 3]</td>\n",
       "      <td>BB</td>\n",
       "      <td>Online TA</td>\n",
       "      <td>TA/TO</td>\n",
       "      <td>0</td>\n",
       "      <td>A</td>\n",
       "      <td>0</td>\n",
       "      <td>No Deposit</td>\n",
       "      <td>Transient</td>\n",
       "      <td>82.0</td>\n",
       "      <td>41.00</td>\n",
       "      <td>lvl3</td>\n",
       "      <td>Zero</td>\n",
       "      <td>1</td>\n",
       "    </tr>\n",
       "    <tr>\n",
       "      <th>9</th>\n",
       "      <td>Resort Hotel</td>\n",
       "      <td>1</td>\n",
       "      <td>75</td>\n",
       "      <td>(6, 9]</td>\n",
       "      <td>0</td>\n",
       "      <td>(0, 3]</td>\n",
       "      <td>HB</td>\n",
       "      <td>Offline TA/TO</td>\n",
       "      <td>TA/TO</td>\n",
       "      <td>0</td>\n",
       "      <td>D</td>\n",
       "      <td>0</td>\n",
       "      <td>No Deposit</td>\n",
       "      <td>Transient</td>\n",
       "      <td>105.5</td>\n",
       "      <td>52.75</td>\n",
       "      <td>lvl2</td>\n",
       "      <td>Zero</td>\n",
       "      <td>0</td>\n",
       "    </tr>\n",
       "    <tr>\n",
       "      <th>10</th>\n",
       "      <td>Resort Hotel</td>\n",
       "      <td>1</td>\n",
       "      <td>23</td>\n",
       "      <td>(6, 9]</td>\n",
       "      <td>0</td>\n",
       "      <td>(3, 6]</td>\n",
       "      <td>BB</td>\n",
       "      <td>Online TA</td>\n",
       "      <td>TA/TO</td>\n",
       "      <td>0</td>\n",
       "      <td>E</td>\n",
       "      <td>0</td>\n",
       "      <td>No Deposit</td>\n",
       "      <td>Transient</td>\n",
       "      <td>123.0</td>\n",
       "      <td>61.50</td>\n",
       "      <td>lvl3</td>\n",
       "      <td>Zero</td>\n",
       "      <td>0</td>\n",
       "    </tr>\n",
       "    <tr>\n",
       "      <th>11</th>\n",
       "      <td>Resort Hotel</td>\n",
       "      <td>0</td>\n",
       "      <td>35</td>\n",
       "      <td>(6, 9]</td>\n",
       "      <td>0</td>\n",
       "      <td>(3, 6]</td>\n",
       "      <td>HB</td>\n",
       "      <td>Online TA</td>\n",
       "      <td>TA/TO</td>\n",
       "      <td>0</td>\n",
       "      <td>D</td>\n",
       "      <td>0</td>\n",
       "      <td>No Deposit</td>\n",
       "      <td>Transient</td>\n",
       "      <td>145.0</td>\n",
       "      <td>72.50</td>\n",
       "      <td>lvl3</td>\n",
       "      <td>Zero</td>\n",
       "      <td>0</td>\n",
       "    </tr>\n",
       "  </tbody>\n",
       "</table>\n",
       "</div>"
      ],
      "text/plain": [
       "           hotel  is_canceled  lead_time arrival_date_month  \\\n",
       "2   Resort Hotel            0          7             (6, 9]   \n",
       "3   Resort Hotel            0         13             (6, 9]   \n",
       "4   Resort Hotel            0         14             (6, 9]   \n",
       "5   Resort Hotel            0         14             (6, 9]   \n",
       "6   Resort Hotel            0          0             (6, 9]   \n",
       "7   Resort Hotel            0          9             (6, 9]   \n",
       "8   Resort Hotel            1         85             (6, 9]   \n",
       "9   Resort Hotel            1         75             (6, 9]   \n",
       "10  Resort Hotel            1         23             (6, 9]   \n",
       "11  Resort Hotel            0         35             (6, 9]   \n",
       "\n",
       "    stays_in_weekend_nights stays_in_week_nights meal market_segment  \\\n",
       "2                         0               (0, 3]   BB         Direct   \n",
       "3                         0               (0, 3]   BB      Corporate   \n",
       "4                         0               (0, 3]   BB      Online TA   \n",
       "5                         0               (0, 3]   BB      Online TA   \n",
       "6                         0               (0, 3]   BB         Direct   \n",
       "7                         0               (0, 3]   FB         Direct   \n",
       "8                         0               (0, 3]   BB      Online TA   \n",
       "9                         0               (0, 3]   HB  Offline TA/TO   \n",
       "10                        0               (3, 6]   BB      Online TA   \n",
       "11                        0               (3, 6]   HB      Online TA   \n",
       "\n",
       "   distribution_channel previous_cancellations assigned_room_type  \\\n",
       "2                Direct                      0                  C   \n",
       "3             Corporate                      0                  A   \n",
       "4                 TA/TO                      0                  A   \n",
       "5                 TA/TO                      0                  A   \n",
       "6                Direct                      0                  C   \n",
       "7                Direct                      0                  C   \n",
       "8                 TA/TO                      0                  A   \n",
       "9                 TA/TO                      0                  D   \n",
       "10                TA/TO                      0                  E   \n",
       "11                TA/TO                      0                  D   \n",
       "\n",
       "    booking_changes deposit_type customer_type    adr  adr_per agent_level  \\\n",
       "2                 0   No Deposit     Transient   75.0    75.00        lvl3   \n",
       "3                 0   No Deposit     Transient   75.0    75.00        lvl4   \n",
       "4                 0   No Deposit     Transient   98.0    49.00        lvl3   \n",
       "5                 0   No Deposit     Transient   98.0    49.00        lvl3   \n",
       "6                 0   No Deposit     Transient  107.0    53.50        lvl3   \n",
       "7                 0   No Deposit     Transient  103.0    51.50        lvl5   \n",
       "8                 0   No Deposit     Transient   82.0    41.00        lvl3   \n",
       "9                 0   No Deposit     Transient  105.5    52.75        lvl2   \n",
       "10                0   No Deposit     Transient  123.0    61.50        lvl3   \n",
       "11                0   No Deposit     Transient  145.0    72.50        lvl3   \n",
       "\n",
       "   required_car_parking_spaces  total_of_special_requests  \n",
       "2                         Zero                          0  \n",
       "3                         Zero                          0  \n",
       "4                         Zero                          1  \n",
       "5                         Zero                          1  \n",
       "6                         Zero                          0  \n",
       "7                         Zero                          1  \n",
       "8                         Zero                          1  \n",
       "9                         Zero                          0  \n",
       "10                        Zero                          0  \n",
       "11                        Zero                          0  "
      ]
     },
     "execution_count": 84,
     "metadata": {},
     "output_type": "execute_result"
    }
   ],
   "source": [
    "data.head(10)"
   ]
  },
  {
   "cell_type": "code",
   "execution_count": 6,
   "metadata": {},
   "outputs": [
    {
     "data": {
      "text/plain": [
       "hotel                                  0\n",
       "is_canceled                            0\n",
       "lead_time                              0\n",
       "arrival_date_year                      0\n",
       "arrival_date_month                     0\n",
       "arrival_date_week_number               0\n",
       "arrival_date_day_of_month              0\n",
       "stays_in_weekend_nights                0\n",
       "stays_in_week_nights                   0\n",
       "adults                                 0\n",
       "children                               4\n",
       "babies                                 0\n",
       "meal                                   0\n",
       "country                              488\n",
       "market_segment                         0\n",
       "distribution_channel                   0\n",
       "is_repeated_guest                      0\n",
       "previous_cancellations                 0\n",
       "previous_bookings_not_canceled         0\n",
       "reserved_room_type                     0\n",
       "assigned_room_type                     0\n",
       "booking_changes                        0\n",
       "deposit_type                           0\n",
       "agent                              16340\n",
       "company                           112593\n",
       "days_in_waiting_list                   0\n",
       "customer_type                          0\n",
       "adr                                    0\n",
       "required_car_parking_spaces            0\n",
       "total_of_special_requests              0\n",
       "dtype: int64"
      ]
     },
     "execution_count": 6,
     "metadata": {},
     "output_type": "execute_result"
    }
   ],
   "source": [
    "data.isna().sum()"
   ]
  },
  {
   "cell_type": "markdown",
   "metadata": {},
   "source": [
    "# Missing Values"
   ]
  },
  {
   "cell_type": "markdown",
   "metadata": {},
   "source": [
    "#### Children"
   ]
  },
  {
   "cell_type": "code",
   "execution_count": 7,
   "metadata": {},
   "outputs": [],
   "source": [
    "pos = np.where(data['children'].isna())"
   ]
  },
  {
   "cell_type": "code",
   "execution_count": 8,
   "metadata": {},
   "outputs": [],
   "source": [
    "data['children'] = data['children'].fillna(stats.mode(data['children'])[0][0])"
   ]
  },
  {
   "cell_type": "markdown",
   "metadata": {},
   "source": [
    "#### Agent"
   ]
  },
  {
   "cell_type": "code",
   "execution_count": 9,
   "metadata": {},
   "outputs": [
    {
     "data": {
      "text/plain": [
       "9.0      31961\n",
       "240.0    13922\n",
       "1.0       7191\n",
       "14.0      3640\n",
       "7.0       3539\n",
       "6.0       3290\n",
       "250.0     2870\n",
       "241.0     1721\n",
       "28.0      1666\n",
       "8.0       1514\n",
       "3.0       1336\n",
       "37.0      1230\n",
       "19.0      1061\n",
       "40.0      1039\n",
       "314.0      927\n",
       "21.0       875\n",
       "229.0      786\n",
       "242.0      780\n",
       "83.0       696\n",
       "29.0       683\n",
       "171.0      607\n",
       "12.0       578\n",
       "85.0       554\n",
       "20.0       540\n",
       "96.0       537\n",
       "243.0      514\n",
       "30.0       484\n",
       "134.0      482\n",
       "298.0      472\n",
       "27.0       450\n",
       "15.0       402\n",
       "26.0       401\n",
       "11.0       395\n",
       "22.0       382\n",
       "56.0       375\n",
       "273.0      349\n",
       "177.0      347\n",
       "86.0       338\n",
       "58.0       335\n",
       "5.0        330\n",
       "119.0      304\n",
       "196.0      301\n",
       "34.0       294\n",
       "44.0       292\n",
       "138.0      287\n",
       "315.0      284\n",
       "38.0       274\n",
       "10.0       260\n",
       "236.0      247\n",
       "16.0       246\n",
       "17.0       241\n",
       "115.0      225\n",
       "251.0      220\n",
       "68.0       211\n",
       "42.0       211\n",
       "191.0      198\n",
       "175.0      195\n",
       "154.0      193\n",
       "195.0      193\n",
       "156.0      190\n",
       "168.0      184\n",
       "152.0      183\n",
       "208.0      173\n",
       "143.0      172\n",
       "326.0      165\n",
       "31.0       162\n",
       "2.0        162\n",
       "147.0      156\n",
       "132.0      143\n",
       "142.0      137\n",
       "52.0       137\n",
       "95.0       135\n",
       "410.0      133\n",
       "248.0      131\n",
       "234.0      128\n",
       "67.0       127\n",
       "39.0       127\n",
       "330.0      125\n",
       "146.0      124\n",
       "98.0       124\n",
       "94.0       114\n",
       "35.0       109\n",
       "220.0      104\n",
       "36.0       100\n",
       "89.0        99\n",
       "464.0       98\n",
       "155.0       94\n",
       "170.0       93\n",
       "69.0        90\n",
       "159.0       89\n",
       "253.0       87\n",
       "281.0       82\n",
       "13.0        82\n",
       "185.0       78\n",
       "82.0        77\n",
       "87.0        77\n",
       "339.0       77\n",
       "41.0        75\n",
       "75.0        73\n",
       "71.0        73\n",
       "118.0       69\n",
       "99.0        68\n",
       "531.0       68\n",
       "157.0       61\n",
       "385.0       60\n",
       "181.0       59\n",
       "91.0        58\n",
       "495.0       57\n",
       "390.0       57\n",
       "440.0       56\n",
       "151.0       56\n",
       "133.0       56\n",
       "332.0       55\n",
       "308.0       54\n",
       "104.0       53\n",
       "184.0       52\n",
       "249.0       51\n",
       "47.0        50\n",
       "436.0       49\n",
       "468.0       49\n",
       "4.0         47\n",
       "79.0        47\n",
       "368.0       45\n",
       "183.0       45\n",
       "305.0       45\n",
       "286.0       45\n",
       "127.0       45\n",
       "66.0        44\n",
       "296.0       42\n",
       "201.0       42\n",
       "192.0       41\n",
       "375.0       40\n",
       "467.0       39\n",
       "261.0       38\n",
       "121.0       37\n",
       "162.0       37\n",
       "78.0        37\n",
       "245.0       37\n",
       "313.0       36\n",
       "378.0       36\n",
       "527.0       35\n",
       "306.0       35\n",
       "493.0       35\n",
       "394.0       33\n",
       "434.0       33\n",
       "77.0        33\n",
       "45.0        32\n",
       "479.0       32\n",
       "387.0       32\n",
       "33.0        31\n",
       "254.0       29\n",
       "173.0       29\n",
       "235.0       29\n",
       "63.0        29\n",
       "252.0       29\n",
       "149.0       28\n",
       "492.0       28\n",
       "57.0        28\n",
       "334.0       28\n",
       "350.0       28\n",
       "205.0       27\n",
       "23.0        25\n",
       "310.0       25\n",
       "153.0       25\n",
       "323.0       25\n",
       "502.0       24\n",
       "187.0       24\n",
       "257.0       24\n",
       "256.0       24\n",
       "128.0       23\n",
       "64.0        23\n",
       "336.0       23\n",
       "24.0        22\n",
       "262.0       22\n",
       "348.0       22\n",
       "174.0       22\n",
       "359.0       21\n",
       "103.0       21\n",
       "327.0       20\n",
       "74.0        20\n",
       "50.0        20\n",
       "455.0       19\n",
       "290.0       19\n",
       "364.0       19\n",
       "88.0        19\n",
       "60.0        19\n",
       "423.0       19\n",
       "223.0       18\n",
       "53.0        18\n",
       "474.0       17\n",
       "459.0       16\n",
       "425.0       16\n",
       "55.0        16\n",
       "111.0       16\n",
       "411.0       16\n",
       "215.0       15\n",
       "193.0       15\n",
       "32.0        15\n",
       "360.0       15\n",
       "112.0       15\n",
       "354.0       14\n",
       "288.0       14\n",
       "129.0       14\n",
       "307.0       14\n",
       "126.0       14\n",
       "105.0       14\n",
       "219.0       13\n",
       "393.0       13\n",
       "110.0       12\n",
       "484.0       11\n",
       "526.0       10\n",
       "509.0       10\n",
       "324.0        9\n",
       "328.0        9\n",
       "287.0        8\n",
       "275.0        8\n",
       "344.0        8\n",
       "481.0        8\n",
       "139.0        8\n",
       "276.0        8\n",
       "182.0        8\n",
       "418.0        8\n",
       "475.0        8\n",
       "92.0         7\n",
       "210.0        7\n",
       "163.0        7\n",
       "441.0        7\n",
       "72.0         6\n",
       "81.0         6\n",
       "363.0        6\n",
       "270.0        6\n",
       "508.0        6\n",
       "141.0        6\n",
       "325.0        6\n",
       "214.0        5\n",
       "429.0        5\n",
       "405.0        5\n",
       "150.0        5\n",
       "341.0        4\n",
       "295.0        4\n",
       "335.0        4\n",
       "403.0        4\n",
       "180.0        4\n",
       "430.0        4\n",
       "148.0        4\n",
       "244.0        4\n",
       "371.0        4\n",
       "355.0        4\n",
       "258.0        3\n",
       "427.0        3\n",
       "321.0        3\n",
       "25.0         3\n",
       "420.0        3\n",
       "426.0        3\n",
       "167.0        3\n",
       "370.0        3\n",
       "302.0        3\n",
       "535.0        3\n",
       "232.0        2\n",
       "331.0        2\n",
       "107.0        2\n",
       "438.0        2\n",
       "61.0         2\n",
       "211.0        2\n",
       "469.0        2\n",
       "122.0        2\n",
       "391.0        2\n",
       "283.0        2\n",
       "414.0        2\n",
       "179.0        2\n",
       "449.0        2\n",
       "461.0        2\n",
       "135.0        2\n",
       "384.0        2\n",
       "269.0        2\n",
       "303.0        2\n",
       "454.0        2\n",
       "510.0        2\n",
       "282.0        2\n",
       "404.0        2\n",
       "227.0        2\n",
       "476.0        2\n",
       "106.0        2\n",
       "450.0        1\n",
       "280.0        1\n",
       "144.0        1\n",
       "300.0        1\n",
       "444.0        1\n",
       "358.0        1\n",
       "93.0         1\n",
       "408.0        1\n",
       "451.0        1\n",
       "291.0        1\n",
       "165.0        1\n",
       "431.0        1\n",
       "114.0        1\n",
       "158.0        1\n",
       "278.0        1\n",
       "73.0         1\n",
       "299.0        1\n",
       "432.0        1\n",
       "397.0        1\n",
       "497.0        1\n",
       "285.0        1\n",
       "90.0         1\n",
       "267.0        1\n",
       "247.0        1\n",
       "352.0        1\n",
       "333.0        1\n",
       "289.0        1\n",
       "117.0        1\n",
       "59.0         1\n",
       "265.0        1\n",
       "216.0        1\n",
       "301.0        1\n",
       "294.0        1\n",
       "70.0         1\n",
       "480.0        1\n",
       "388.0        1\n",
       "346.0        1\n",
       "483.0        1\n",
       "453.0        1\n",
       "472.0        1\n",
       "406.0        1\n",
       "304.0        1\n",
       "54.0         1\n",
       "416.0        1\n",
       "446.0        1\n",
       "213.0        1\n",
       "433.0        1\n",
       "197.0        1\n",
       "367.0        1\n",
       "337.0        1\n",
       "Name: agent, dtype: int64"
      ]
     },
     "execution_count": 9,
     "metadata": {},
     "output_type": "execute_result"
    }
   ],
   "source": [
    "data['agent'].value_counts()"
   ]
  },
  {
   "cell_type": "code",
   "execution_count": 10,
   "metadata": {},
   "outputs": [],
   "source": [
    "data['agent'] = data['agent'].apply(lambda x: 'None' if pd.isna(x) else x)"
   ]
  },
  {
   "cell_type": "markdown",
   "metadata": {},
   "source": [
    "#### Company"
   ]
  },
  {
   "cell_type": "code",
   "execution_count": 11,
   "metadata": {},
   "outputs": [
    {
     "data": {
      "text/plain": [
       "112593"
      ]
     },
     "execution_count": 11,
     "metadata": {},
     "output_type": "execute_result"
    }
   ],
   "source": [
    "data['company'].isna().sum()"
   ]
  },
  {
   "cell_type": "code",
   "execution_count": 12,
   "metadata": {},
   "outputs": [],
   "source": [
    "data.drop('company', axis=1, inplace=True)"
   ]
  },
  {
   "cell_type": "markdown",
   "metadata": {},
   "source": [
    "#### Delete remaining NA"
   ]
  },
  {
   "cell_type": "code",
   "execution_count": 13,
   "metadata": {},
   "outputs": [],
   "source": [
    "data.dropna(inplace=True)"
   ]
  },
  {
   "cell_type": "markdown",
   "metadata": {},
   "source": [
    "# Outliers"
   ]
  },
  {
   "cell_type": "markdown",
   "metadata": {},
   "source": [
    "#### ADR"
   ]
  },
  {
   "cell_type": "code",
   "execution_count": 14,
   "metadata": {},
   "outputs": [
    {
     "data": {
      "image/png": "[encoded data removed]",
      "text/plain": [
       "<Figure size 432x288 with 1 Axes>"
      ]
     },
     "metadata": {},
     "output_type": "display_data"
    }
   ],
   "source": [
    "sns.boxplot(data['adr']);"
   ]
  },
  {
   "cell_type": "code",
   "execution_count": 15,
   "metadata": {},
   "outputs": [
    {
     "name": "stdout",
     "output_type": "stream",
     "text": [
      "Length = 108044\n"
     ]
    },
    {
     "data": {
      "image/png": "[encoded data removed]",
      "text/plain": [
       "<Figure size 1080x360 with 2 Axes>"
      ]
     },
     "metadata": {},
     "output_type": "display_data"
    }
   ],
   "source": [
    "Q1 = data.quantile(0.15)\n",
    "Q3 = data.quantile(0.95)\n",
    "IQR = Q3 - Q1\n",
    "data_out = data[~((data < (Q1 - 1.5 * IQR)) |(data > (Q3 + 1.5 * IQR))).any(axis=1)]\n",
    "\n",
    "print('Length =',len(data_out))\n",
    "\n",
    "plt.figure(figsize=(15,5))\n",
    "plt.subplot('121')\n",
    "sns.boxplot(data_out['adr'])\n",
    "plt.subplot('122')\n",
    "plt.title(str(stats.skew(data_out['adr'])))\n",
    "sns.distplot(data_out['adr']);"
   ]
  },
  {
   "cell_type": "markdown",
   "metadata": {},
   "source": [
    "#### Lead Time"
   ]
  },
  {
   "cell_type": "code",
   "execution_count": 16,
   "metadata": {},
   "outputs": [
    {
     "data": {
      "image/png": "[encoded data removed]",
      "text/plain": [
       "<Figure size 1080x360 with 2 Axes>"
      ]
     },
     "metadata": {},
     "output_type": "display_data"
    }
   ],
   "source": [
    "plt.figure(figsize=(15,5))\n",
    "plt.subplot('121')\n",
    "sns.boxplot(data_out['lead_time'])\n",
    "plt.subplot('122')\n",
    "plt.title(str(stats.skew(data_out['lead_time'])))\n",
    "sns.distplot(data_out['lead_time']);"
   ]
  },
  {
   "cell_type": "code",
   "execution_count": 17,
   "metadata": {},
   "outputs": [],
   "source": [
    "data = data_out"
   ]
  },
  {
   "cell_type": "markdown",
   "metadata": {},
   "source": [
    "# Feature Eng"
   ]
  },
  {
   "cell_type": "markdown",
   "metadata": {},
   "source": [
    "#### Adr per person"
   ]
  },
  {
   "cell_type": "code",
   "execution_count": 18,
   "metadata": {},
   "outputs": [],
   "source": [
    "data['adr_per'] = data['adr'] / (data['adults']+data['children'])"
   ]
  },
  {
   "cell_type": "markdown",
   "metadata": {},
   "source": [
    "#### Delete where there is no person"
   ]
  },
  {
   "cell_type": "code",
   "execution_count": 19,
   "metadata": {},
   "outputs": [],
   "source": [
    "pos = np.where(data['adults'] + data['children'] + data['babies'] == 0)\n",
    "pos = np.array(pos).tolist()\n",
    "pos = np.squeeze(np.asarray(pos))\n",
    "\n",
    "data.drop(data.index[[pos]], inplace=True)\n"
   ]
  },
  {
   "cell_type": "markdown",
   "metadata": {},
   "source": [
    "#### Agent"
   ]
  },
  {
   "cell_type": "code",
   "execution_count": 20,
   "metadata": {},
   "outputs": [],
   "source": [
    "g = data.groupby(['agent']).agg({'adr_per':'mean'})\n",
    "g = g.sort_values('adr_per', ascending=False)\n",
    "\n",
    "lvl_5 = g.index[:30]\n",
    "lvl_4 = g.index[30:80]\n",
    "lvl_3 = g.index[80:150]\n",
    "lvl_2 = g.index[150: 250]\n",
    "lvl_1 = g.index[250:324]\n",
    "\n",
    "agent_price = []\n",
    "for i in data['agent']:\n",
    "    if (i in lvl_5):\n",
    "        agent_price.append('lvl5')\n",
    "    if (i in lvl_4):\n",
    "        agent_price.append('lvl4')\n",
    "    if (i in lvl_3):\n",
    "        agent_price.append('lvl3')\n",
    "    if (i in lvl_2):\n",
    "        agent_price.append('lvl2')\n",
    "    if (i in lvl_1):\n",
    "        agent_price.append('lvl1')\n",
    "        \n",
    "data['agent_level'] = agent_price\n",
    "\n",
    "data.drop('agent', axis=1, inplace=True)"
   ]
  },
  {
   "cell_type": "code",
   "execution_count": 21,
   "metadata": {},
   "outputs": [],
   "source": [
    "data = data[['hotel', 'is_canceled', 'lead_time', 'arrival_date_year',\n",
    "       'arrival_date_month', 'arrival_date_week_number',\n",
    "       'arrival_date_day_of_month', 'stays_in_weekend_nights',\n",
    "       'stays_in_week_nights', 'adults', 'children', 'babies', 'meal',\n",
    "       'country', 'market_segment', 'distribution_channel',\n",
    "       'is_repeated_guest', 'previous_cancellations',\n",
    "       'previous_bookings_not_canceled', 'reserved_room_type',\n",
    "       'assigned_room_type', 'booking_changes', 'deposit_type',\n",
    "       'days_in_waiting_list', 'customer_type', 'adr', 'adr_per', 'agent_level',\n",
    "       'required_car_parking_spaces', 'total_of_special_requests']]"
   ]
  },
  {
   "cell_type": "markdown",
   "metadata": {},
   "source": [
    "# EDA"
   ]
  },
  {
   "cell_type": "markdown",
   "metadata": {},
   "source": [
    "## Is Canceled Count"
   ]
  },
  {
   "cell_type": "code",
   "execution_count": 22,
   "metadata": {},
   "outputs": [
    {
     "data": {
      "image/png": "[encoded data removed]",
      "text/plain": [
       "<Figure size 432x288 with 1 Axes>"
      ]
     },
     "metadata": {},
     "output_type": "display_data"
    }
   ],
   "source": [
    "sns.countplot(data['is_canceled']);"
   ]
  },
  {
   "cell_type": "markdown",
   "metadata": {},
   "source": [
    "## Hotel Type"
   ]
  },
  {
   "cell_type": "markdown",
   "metadata": {},
   "source": [
    "#### Count"
   ]
  },
  {
   "cell_type": "code",
   "execution_count": 23,
   "metadata": {},
   "outputs": [
    {
     "data": {
      "image/png": "[encoded data removed]",
      "text/plain": [
       "<Figure size 432x288 with 1 Axes>"
      ]
     },
     "metadata": {},
     "output_type": "display_data"
    }
   ],
   "source": [
    "sns.countplot(data['hotel']);"
   ]
  },
  {
   "cell_type": "markdown",
   "metadata": {},
   "source": [
    "#### Is_canceled\n"
   ]
  },
  {
   "cell_type": "code",
   "execution_count": 24,
   "metadata": {},
   "outputs": [
    {
     "data": {
      "image/png": "[encoded data removed]",
      "text/plain": [
       "<Figure size 360x360 with 1 Axes>"
      ]
     },
     "metadata": {},
     "output_type": "display_data"
    }
   ],
   "source": [
    "sns.catplot(data=data, x='hotel', y='is_canceled', kind='violin', height=5, aspect=1);"
   ]
  },
  {
   "cell_type": "markdown",
   "metadata": {},
   "source": [
    "#### Price"
   ]
  },
  {
   "cell_type": "code",
   "execution_count": 25,
   "metadata": {},
   "outputs": [
    {
     "data": {
      "image/png": "[encoded data removed]",
      "text/plain": [
       "<Figure size 360x360 with 1 Axes>"
      ]
     },
     "metadata": {},
     "output_type": "display_data"
    }
   ],
   "source": [
    "sns.catplot(data=data, x='hotel', y='adr_per', kind='boxen', height=5, aspect=1);"
   ]
  },
  {
   "cell_type": "markdown",
   "metadata": {},
   "source": [
    "#### Hotel and Room"
   ]
  },
  {
   "cell_type": "code",
   "execution_count": 26,
   "metadata": {
    "scrolled": true
   },
   "outputs": [
    {
     "data": {
      "image/png": "[encoded data removed]",
      "text/plain": [
       "<Figure size 1387.75x432 with 1 Axes>"
      ]
     },
     "metadata": {},
     "output_type": "display_data"
    }
   ],
   "source": [
    "sns.catplot(data=data, x='assigned_room_type', y='adr_per', hue='hotel', kind='boxen', height=6, aspect=3);"
   ]
  },
  {
   "cell_type": "markdown",
   "metadata": {},
   "source": [
    "## Price"
   ]
  },
  {
   "cell_type": "markdown",
   "metadata": {},
   "source": [
    "#### Is_canceled"
   ]
  },
  {
   "cell_type": "code",
   "execution_count": 27,
   "metadata": {},
   "outputs": [
    {
     "data": {
      "image/png": "[encoded data removed]",
      "text/plain": [
       "<Figure size 360x360 with 1 Axes>"
      ]
     },
     "metadata": {},
     "output_type": "display_data"
    }
   ],
   "source": [
    "sns.catplot(data=data, x='is_canceled', y='adr_per', kind='box', height=5, aspect=1);"
   ]
  },
  {
   "cell_type": "markdown",
   "metadata": {},
   "source": [
    "## Lead Time"
   ]
  },
  {
   "cell_type": "markdown",
   "metadata": {},
   "source": [
    "#### Is_canceled"
   ]
  },
  {
   "cell_type": "code",
   "execution_count": 28,
   "metadata": {},
   "outputs": [
    {
     "data": {
      "image/png": "[encoded data removed]",
      "text/plain": [
       "<Figure size 360x360 with 1 Axes>"
      ]
     },
     "metadata": {},
     "output_type": "display_data"
    }
   ],
   "source": [
    "sns.catplot(data=data, x='is_canceled', y='lead_time', kind='box', height=5, aspect=1);"
   ]
  },
  {
   "cell_type": "markdown",
   "metadata": {},
   "source": [
    "## Total of Special Requests"
   ]
  },
  {
   "cell_type": "markdown",
   "metadata": {},
   "source": [
    "#### Is_canceled"
   ]
  },
  {
   "cell_type": "code",
   "execution_count": 29,
   "metadata": {},
   "outputs": [
    {
     "data": {
      "image/png": "[encoded data removed]",
      "text/plain": [
       "<Figure size 360x360 with 1 Axes>"
      ]
     },
     "metadata": {},
     "output_type": "display_data"
    }
   ],
   "source": [
    "sns.catplot(data=data, x='total_of_special_requests', y='is_canceled', kind='bar', height=5, aspect=1);"
   ]
  },
  {
   "cell_type": "markdown",
   "metadata": {},
   "source": [
    "#### Price"
   ]
  },
  {
   "cell_type": "code",
   "execution_count": 30,
   "metadata": {},
   "outputs": [
    {
     "data": {
      "image/png": "[encoded data removed]",
      "text/plain": [
       "<Figure size 360x360 with 1 Axes>"
      ]
     },
     "metadata": {},
     "output_type": "display_data"
    }
   ],
   "source": [
    "sns.catplot(data=data, x='total_of_special_requests', y='adr', kind='bar', height=5, aspect=1);"
   ]
  },
  {
   "cell_type": "markdown",
   "metadata": {},
   "source": [
    "## Total of Parking Lots"
   ]
  },
  {
   "cell_type": "markdown",
   "metadata": {},
   "source": [
    "#### Is_canceled"
   ]
  },
  {
   "cell_type": "code",
   "execution_count": 31,
   "metadata": {},
   "outputs": [
    {
     "data": {
      "image/png": "[encoded data removed]",
      "text/plain": [
       "<Figure size 288x288 with 1 Axes>"
      ]
     },
     "metadata": {},
     "output_type": "display_data"
    }
   ],
   "source": [
    "sns.catplot(data=data, x='required_car_parking_spaces', y='is_canceled', kind='violin', height=4, aspect=1);"
   ]
  },
  {
   "cell_type": "markdown",
   "metadata": {},
   "source": [
    "#### Change the data to categorical"
   ]
  },
  {
   "cell_type": "code",
   "execution_count": 32,
   "metadata": {},
   "outputs": [],
   "source": [
    "data['required_car_parking_spaces'] = data['required_car_parking_spaces'].apply(lambda x: 'Zero' if x==0 else 'Above Zero')"
   ]
  },
  {
   "cell_type": "markdown",
   "metadata": {},
   "source": [
    "## Costumer Type"
   ]
  },
  {
   "cell_type": "code",
   "execution_count": 33,
   "metadata": {
    "scrolled": true
   },
   "outputs": [
    {
     "data": {
      "text/plain": [
       "Transient          81546\n",
       "Transient-Party    22113\n",
       "Contract            3967\n",
       "Group                344\n",
       "Name: customer_type, dtype: int64"
      ]
     },
     "execution_count": 33,
     "metadata": {},
     "output_type": "execute_result"
    }
   ],
   "source": [
    "data['customer_type'].value_counts()"
   ]
  },
  {
   "cell_type": "markdown",
   "metadata": {},
   "source": [
    "#### Is canceled"
   ]
  },
  {
   "cell_type": "code",
   "execution_count": 34,
   "metadata": {
    "scrolled": false
   },
   "outputs": [
    {
     "data": {
      "image/png": "[encoded data removed]",
      "text/plain": [
       "<Figure size 720x360 with 1 Axes>"
      ]
     },
     "metadata": {},
     "output_type": "display_data"
    }
   ],
   "source": [
    "sns.catplot(data=data, x='customer_type', y='is_canceled', kind='violin', height=5, aspect=2);"
   ]
  },
  {
   "cell_type": "markdown",
   "metadata": {},
   "source": [
    "## Agent"
   ]
  },
  {
   "cell_type": "code",
   "execution_count": 35,
   "metadata": {},
   "outputs": [
    {
     "data": {
      "text/plain": [
       "lvl3    68928\n",
       "lvl2    20569\n",
       "lvl1    15114\n",
       "lvl4     2328\n",
       "lvl5     1031\n",
       "Name: agent_level, dtype: int64"
      ]
     },
     "execution_count": 35,
     "metadata": {},
     "output_type": "execute_result"
    }
   ],
   "source": [
    "data['agent_level'].value_counts()"
   ]
  },
  {
   "cell_type": "markdown",
   "metadata": {},
   "source": [
    "#### Price"
   ]
  },
  {
   "cell_type": "code",
   "execution_count": 36,
   "metadata": {},
   "outputs": [
    {
     "data": {
      "image/png": "[encoded data removed]",
      "text/plain": [
       "<Figure size 720x360 with 1 Axes>"
      ]
     },
     "metadata": {},
     "output_type": "display_data"
    }
   ],
   "source": [
    "sns.catplot(data=data, x='agent_level', y='adr_per', kind='bar', height=5, aspect=2);"
   ]
  },
  {
   "cell_type": "markdown",
   "metadata": {},
   "source": [
    "#### Is canceled"
   ]
  },
  {
   "cell_type": "code",
   "execution_count": 37,
   "metadata": {},
   "outputs": [
    {
     "data": {
      "image/png": "[encoded data removed]",
      "text/plain": [
       "<Figure size 720x360 with 1 Axes>"
      ]
     },
     "metadata": {},
     "output_type": "display_data"
    }
   ],
   "source": [
    "sns.catplot(data=data, x='agent_level', y='is_canceled', kind='bar', height=5, aspect=2);"
   ]
  },
  {
   "cell_type": "markdown",
   "metadata": {},
   "source": [
    "## Days Wating"
   ]
  },
  {
   "cell_type": "code",
   "execution_count": 38,
   "metadata": {},
   "outputs": [
    {
     "data": {
      "text/plain": [
       "0    107970\n",
       "Name: days_in_waiting_list, dtype: int64"
      ]
     },
     "execution_count": 38,
     "metadata": {},
     "output_type": "execute_result"
    }
   ],
   "source": [
    "data['days_in_waiting_list'].value_counts()"
   ]
  },
  {
   "cell_type": "code",
   "execution_count": 39,
   "metadata": {},
   "outputs": [],
   "source": [
    "data.drop('days_in_waiting_list', axis=1, inplace=True)"
   ]
  },
  {
   "cell_type": "markdown",
   "metadata": {},
   "source": [
    "## Deposity Type"
   ]
  },
  {
   "cell_type": "code",
   "execution_count": 40,
   "metadata": {},
   "outputs": [
    {
     "data": {
      "text/plain": [
       "No Deposit    95479\n",
       "Non Refund    12349\n",
       "Refundable      142\n",
       "Name: deposit_type, dtype: int64"
      ]
     },
     "execution_count": 40,
     "metadata": {},
     "output_type": "execute_result"
    }
   ],
   "source": [
    "data['deposit_type'].value_counts()"
   ]
  },
  {
   "cell_type": "code",
   "execution_count": 41,
   "metadata": {},
   "outputs": [
    {
     "data": {
      "image/png": "[encoded data removed]",
      "text/plain": [
       "<Figure size 720x360 with 1 Axes>"
      ]
     },
     "metadata": {},
     "output_type": "display_data"
    }
   ],
   "source": [
    "sns.catplot(data=data, x='deposit_type', y='is_canceled', kind='bar', height=5, aspect=2);"
   ]
  },
  {
   "cell_type": "markdown",
   "metadata": {},
   "source": [
    "## Booking Changes"
   ]
  },
  {
   "cell_type": "code",
   "execution_count": 42,
   "metadata": {},
   "outputs": [
    {
     "data": {
      "text/plain": [
       "0    93355\n",
       "1    11202\n",
       "2     3413\n",
       "Name: booking_changes, dtype: int64"
      ]
     },
     "execution_count": 42,
     "metadata": {},
     "output_type": "execute_result"
    }
   ],
   "source": [
    "data['booking_changes'].value_counts()"
   ]
  },
  {
   "cell_type": "code",
   "execution_count": 43,
   "metadata": {},
   "outputs": [
    {
     "data": {
      "image/png": "[encoded data removed]",
      "text/plain": [
       "<Figure size 720x360 with 1 Axes>"
      ]
     },
     "metadata": {},
     "output_type": "display_data"
    }
   ],
   "source": [
    "sns.catplot(data=data, x='booking_changes', y='is_canceled', kind='bar', height=5, aspect=2);"
   ]
  },
  {
   "cell_type": "markdown",
   "metadata": {},
   "source": [
    "## Room Type Cancelation"
   ]
  },
  {
   "cell_type": "code",
   "execution_count": 44,
   "metadata": {},
   "outputs": [
    {
     "data": {
      "image/png": "[encoded data removed]",
      "text/plain": [
       "<Figure size 720x360 with 1 Axes>"
      ]
     },
     "metadata": {},
     "output_type": "display_data"
    },
    {
     "data": {
      "image/png": "[encoded data removed]",
      "text/plain": [
       "<Figure size 720x360 with 1 Axes>"
      ]
     },
     "metadata": {},
     "output_type": "display_data"
    }
   ],
   "source": [
    "aux = ['reserved_room_type', 'assigned_room_type']\n",
    "for i in aux:\n",
    "    sns.catplot(data=data, x=i, y='is_canceled', kind='bar', height=5, aspect=2);"
   ]
  },
  {
   "cell_type": "code",
   "execution_count": 83,
   "metadata": {},
   "outputs": [],
   "source": [
    "data.drop('reserved_room_type', axis=1, inplace=True)"
   ]
  },
  {
   "cell_type": "markdown",
   "metadata": {},
   "source": [
    "## Previous Cancelations"
   ]
  },
  {
   "cell_type": "code",
   "execution_count": 45,
   "metadata": {},
   "outputs": [
    {
     "data": {
      "text/plain": [
       "0    103426\n",
       "1      4528\n",
       "2        16\n",
       "Name: previous_cancellations, dtype: int64"
      ]
     },
     "execution_count": 45,
     "metadata": {},
     "output_type": "execute_result"
    }
   ],
   "source": [
    "data['previous_cancellations'].value_counts()"
   ]
  },
  {
   "cell_type": "code",
   "execution_count": 46,
   "metadata": {},
   "outputs": [
    {
     "data": {
      "text/plain": [
       "0    107970\n",
       "Name: previous_bookings_not_canceled, dtype: int64"
      ]
     },
     "execution_count": 46,
     "metadata": {},
     "output_type": "execute_result"
    }
   ],
   "source": [
    "data['previous_bookings_not_canceled'].value_counts()"
   ]
  },
  {
   "cell_type": "code",
   "execution_count": 47,
   "metadata": {},
   "outputs": [],
   "source": [
    "data.drop('previous_bookings_not_canceled', axis=1, inplace=True)"
   ]
  },
  {
   "cell_type": "code",
   "execution_count": 48,
   "metadata": {},
   "outputs": [
    {
     "data": {
      "image/png": "[encoded data removed]",
      "text/plain": [
       "<Figure size 720x360 with 1 Axes>"
      ]
     },
     "metadata": {},
     "output_type": "display_data"
    }
   ],
   "source": [
    "sns.catplot(data=data, x='previous_cancellations', y='is_canceled', kind='bar', height=5, aspect=2);"
   ]
  },
  {
   "cell_type": "code",
   "execution_count": 49,
   "metadata": {},
   "outputs": [],
   "source": [
    "data['previous_cancellations'] = data['previous_cancellations'].apply(lambda x: '0' if x==0 else 1)"
   ]
  },
  {
   "cell_type": "markdown",
   "metadata": {},
   "source": [
    "## Repeated Guest"
   ]
  },
  {
   "cell_type": "code",
   "execution_count": 50,
   "metadata": {},
   "outputs": [
    {
     "data": {
      "text/plain": [
       "0    107970\n",
       "Name: is_repeated_guest, dtype: int64"
      ]
     },
     "execution_count": 50,
     "metadata": {},
     "output_type": "execute_result"
    }
   ],
   "source": [
    "data['is_repeated_guest'].value_counts()"
   ]
  },
  {
   "cell_type": "code",
   "execution_count": 51,
   "metadata": {},
   "outputs": [],
   "source": [
    "data.drop('is_repeated_guest', axis=1, inplace=True)"
   ]
  },
  {
   "cell_type": "markdown",
   "metadata": {},
   "source": [
    "## Distribuition Channel"
   ]
  },
  {
   "cell_type": "code",
   "execution_count": 52,
   "metadata": {},
   "outputs": [
    {
     "data": {
      "text/plain": [
       "TA/TO        90720\n",
       "Direct       12594\n",
       "Corporate     4464\n",
       "GDS            187\n",
       "Undefined        5\n",
       "Name: distribution_channel, dtype: int64"
      ]
     },
     "execution_count": 52,
     "metadata": {},
     "output_type": "execute_result"
    }
   ],
   "source": [
    "data['distribution_channel'].value_counts()"
   ]
  },
  {
   "cell_type": "markdown",
   "metadata": {},
   "source": [
    "#### Is canceled"
   ]
  },
  {
   "cell_type": "code",
   "execution_count": 53,
   "metadata": {},
   "outputs": [
    {
     "data": {
      "image/png": "[encoded data removed]",
      "text/plain": [
       "<Figure size 720x360 with 1 Axes>"
      ]
     },
     "metadata": {},
     "output_type": "display_data"
    }
   ],
   "source": [
    "sns.catplot(data=data, x='distribution_channel', y='is_canceled', kind='bar', height=5, aspect=2);"
   ]
  },
  {
   "cell_type": "markdown",
   "metadata": {},
   "source": [
    "## Market Segment"
   ]
  },
  {
   "cell_type": "code",
   "execution_count": 54,
   "metadata": {},
   "outputs": [
    {
     "data": {
      "text/plain": [
       "Online TA        54426\n",
       "Offline TA/TO    21221\n",
       "Groups           17512\n",
       "Direct           10877\n",
       "Corporate         3298\n",
       "Complementary      464\n",
       "Aviation           170\n",
       "Undefined            2\n",
       "Name: market_segment, dtype: int64"
      ]
     },
     "execution_count": 54,
     "metadata": {},
     "output_type": "execute_result"
    }
   ],
   "source": [
    "data['market_segment'].value_counts()"
   ]
  },
  {
   "cell_type": "code",
   "execution_count": 55,
   "metadata": {
    "scrolled": false
   },
   "outputs": [
    {
     "data": {
      "image/png": "[encoded data removed]",
      "text/plain": [
       "<Figure size 720x360 with 1 Axes>"
      ]
     },
     "metadata": {},
     "output_type": "display_data"
    }
   ],
   "source": [
    "sns.catplot(data=data, x='market_segment', y='is_canceled', kind='bar', height=5, aspect=2);"
   ]
  },
  {
   "cell_type": "markdown",
   "metadata": {},
   "source": [
    "## Country"
   ]
  },
  {
   "cell_type": "code",
   "execution_count": 56,
   "metadata": {
    "scrolled": true
   },
   "outputs": [
    {
     "data": {
      "text/plain": [
       "PRT    41050\n",
       "GBR    11585\n",
       "FRA     9896\n",
       "ESP     8153\n",
       "DEU     7053\n",
       "ITA     3539\n",
       "IRL     3221\n",
       "BEL     2253\n",
       "BRA     2106\n",
       "NLD     2016\n",
       "USA     1979\n",
       "CHE     1692\n",
       "CN      1225\n",
       "AUT     1165\n",
       "SWE      971\n",
       "CHN      960\n",
       "POL      862\n",
       "RUS      605\n",
       "NOR      579\n",
       "ISR      571\n",
       "ROU      479\n",
       "FIN      426\n",
       "DNK      421\n",
       "AUS      413\n",
       "AGO      286\n",
       "LUX      278\n",
       "MAR      245\n",
       "TUR      233\n",
       "HUN      222\n",
       "ARG      206\n",
       "JPN      188\n",
       "CZE      163\n",
       "IND      148\n",
       "KOR      126\n",
       "GRC      121\n",
       "SRB       99\n",
       "HRV       97\n",
       "DZA       95\n",
       "MEX       82\n",
       "IRN       81\n",
       "EST       81\n",
       "LTU       79\n",
       "ZAF       78\n",
       "BGR       71\n",
       "COL       68\n",
       "UKR       65\n",
       "SVK       64\n",
       "NZL       64\n",
       "CHL       61\n",
       "MOZ       59\n",
       "THA       56\n",
       "LVA       53\n",
       "SVN       53\n",
       "TWN       51\n",
       "ARE       48\n",
       "CYP       46\n",
       "SAU       45\n",
       "ISL       38\n",
       "TUN       36\n",
       "SGP       36\n",
       "IDN       35\n",
       "PHL       34\n",
       "URY       32\n",
       "NGA       30\n",
       "HKG       29\n",
       "LBN       29\n",
       "PER       28\n",
       "EGY       27\n",
       "ECU       26\n",
       "VEN       25\n",
       "BLR       25\n",
       "MYS       24\n",
       "CPV       22\n",
       "GEO       22\n",
       "JOR       20\n",
       "OMN       18\n",
       "KAZ       18\n",
       "MLT       18\n",
       "CRI       17\n",
       "GIB       17\n",
       "AZE       17\n",
       "KWT       16\n",
       "MAC       16\n",
       "QAT       15\n",
       "PAK       14\n",
       "IRQ       14\n",
       "BIH       13\n",
       "DOM       13\n",
       "BGD       12\n",
       "ALB       11\n",
       "MDV       11\n",
       "BOL       10\n",
       "SEN        9\n",
       "CMR        9\n",
       "TJK        9\n",
       "MKD        9\n",
       "PAN        9\n",
       "JEY        8\n",
       "VNM        8\n",
       "LBY        8\n",
       "MUS        7\n",
       "CUB        7\n",
       "AND        7\n",
       "LKA        6\n",
       "GNB        6\n",
       "JAM        6\n",
       "KEN        6\n",
       "ARM        6\n",
       "PRI        5\n",
       "TZA        5\n",
       "FRO        5\n",
       "CIV        5\n",
       "MNE        5\n",
       "CAF        5\n",
       "SUR        5\n",
       "PRY        4\n",
       "GAB        4\n",
       "GHA        4\n",
       "UZB        4\n",
       "GTM        4\n",
       "BHR        4\n",
       "BRB        4\n",
       "MCO        4\n",
       "ZWE        3\n",
       "LIE        3\n",
       "TMP        3\n",
       "BEN        3\n",
       "ETH        3\n",
       "GGY        3\n",
       "LAO        2\n",
       "ATA        2\n",
       "SLV        2\n",
       "KNA        2\n",
       "ZMB        2\n",
       "GLP        2\n",
       "MYT        2\n",
       "COM        2\n",
       "IMN        2\n",
       "SYC        2\n",
       "SYR        2\n",
       "UGA        2\n",
       "KHM        2\n",
       "RWA        2\n",
       "MWI        2\n",
       "ABW        2\n",
       "TGO        2\n",
       "STP        2\n",
       "DJI        1\n",
       "NAM        1\n",
       "MLI        1\n",
       "UMI        1\n",
       "FJI        1\n",
       "HND        1\n",
       "MDG        1\n",
       "NCL        1\n",
       "GUY        1\n",
       "NPL        1\n",
       "VGB        1\n",
       "AIA        1\n",
       "PLW        1\n",
       "ASM        1\n",
       "SDN        1\n",
       "DMA        1\n",
       "NIC        1\n",
       "LCA        1\n",
       "MMR        1\n",
       "ATF        1\n",
       "BDI        1\n",
       "BFA        1\n",
       "KIR        1\n",
       "MRT        1\n",
       "BHS        1\n",
       "CYM        1\n",
       "SLE        1\n",
       "PYF        1\n",
       "SMR        1\n",
       "Name: country, dtype: int64"
      ]
     },
     "execution_count": 56,
     "metadata": {},
     "output_type": "execute_result"
    }
   ],
   "source": [
    "data['country'].value_counts()"
   ]
  },
  {
   "cell_type": "code",
   "execution_count": 57,
   "metadata": {},
   "outputs": [],
   "source": [
    "data.drop('country', axis=1, inplace=True)"
   ]
  },
  {
   "cell_type": "markdown",
   "metadata": {},
   "source": [
    "## Meal"
   ]
  },
  {
   "cell_type": "code",
   "execution_count": 58,
   "metadata": {},
   "outputs": [
    {
     "data": {
      "text/plain": [
       "BB           82972\n",
       "HB           12995\n",
       "SC           10297\n",
       "Undefined     1012\n",
       "FB             694\n",
       "Name: meal, dtype: int64"
      ]
     },
     "execution_count": 58,
     "metadata": {},
     "output_type": "execute_result"
    }
   ],
   "source": [
    "data['meal'].value_counts()"
   ]
  },
  {
   "cell_type": "code",
   "execution_count": 59,
   "metadata": {},
   "outputs": [
    {
     "data": {
      "image/png": "[encoded data removed]",
      "text/plain": [
       "<Figure size 720x360 with 1 Axes>"
      ]
     },
     "metadata": {},
     "output_type": "display_data"
    }
   ],
   "source": [
    "sns.catplot(data=data, x='meal', y='is_canceled', kind='bar', height=5, aspect=2);"
   ]
  },
  {
   "cell_type": "markdown",
   "metadata": {},
   "source": [
    "## Family"
   ]
  },
  {
   "cell_type": "code",
   "execution_count": 60,
   "metadata": {},
   "outputs": [
    {
     "name": "stdout",
     "output_type": "stream",
     "text": [
      "2    82911\n",
      "1    18842\n",
      "3     5956\n",
      "0      205\n",
      "4       53\n",
      "5        2\n",
      "6        1\n",
      "Name: adults, dtype: int64\n",
      "\n",
      "\n",
      "0.0    99966\n",
      "1.0     4507\n",
      "2.0     3497\n",
      "Name: children, dtype: int64\n",
      "\n",
      "\n",
      "0    107970\n",
      "Name: babies, dtype: int64\n",
      "\n",
      "\n"
     ]
    }
   ],
   "source": [
    "aux = ['adults', 'children', 'babies']\n",
    "for i in aux:\n",
    "    print(data[i].value_counts())\n",
    "    print()\n",
    "    print()"
   ]
  },
  {
   "cell_type": "code",
   "execution_count": 61,
   "metadata": {},
   "outputs": [],
   "source": [
    "data.drop('babies', axis=1, inplace=True)"
   ]
  },
  {
   "cell_type": "code",
   "execution_count": 62,
   "metadata": {},
   "outputs": [
    {
     "data": {
      "image/png": "[encoded data removed]",
      "text/plain": [
       "<Figure size 720x360 with 1 Axes>"
      ]
     },
     "metadata": {},
     "output_type": "display_data"
    },
    {
     "data": {
      "image/png": "[encoded data removed]",
      "text/plain": [
       "<Figure size 720x360 with 1 Axes>"
      ]
     },
     "metadata": {},
     "output_type": "display_data"
    }
   ],
   "source": [
    "for i in aux[:2]:\n",
    "    sns.catplot(data=data, x=i, y='is_canceled', kind='bar', height=5, aspect=2);"
   ]
  },
  {
   "cell_type": "code",
   "execution_count": 63,
   "metadata": {},
   "outputs": [],
   "source": [
    "data.drop(['adults', 'children'], axis=1, inplace=True)"
   ]
  },
  {
   "cell_type": "markdown",
   "metadata": {},
   "source": [
    "## Stays in Weekend"
   ]
  },
  {
   "cell_type": "code",
   "execution_count": 64,
   "metadata": {},
   "outputs": [
    {
     "name": "stdout",
     "output_type": "stream",
     "text": [
      "0    45552\n",
      "2    31400\n",
      "1    28125\n",
      "4     1681\n",
      "3     1168\n",
      "5       44\n",
      "Name: stays_in_weekend_nights, dtype: int64\n",
      "\n",
      "\n",
      "2     30799\n",
      "1     27070\n",
      "3     20323\n",
      "5     10371\n",
      "4      8740\n",
      "0      6463\n",
      "6      1409\n",
      "10      966\n",
      "7       964\n",
      "8       604\n",
      "9       211\n",
      "11       50\n",
      "Name: stays_in_week_nights, dtype: int64\n",
      "\n",
      "\n"
     ]
    }
   ],
   "source": [
    "aux = ['stays_in_weekend_nights', 'stays_in_week_nights']\n",
    "for i in aux:\n",
    "    print(data[i].value_counts())\n",
    "    print()\n",
    "    print()"
   ]
  },
  {
   "cell_type": "code",
   "execution_count": 65,
   "metadata": {},
   "outputs": [
    {
     "data": {
      "image/png": "[encoded data removed]",
      "text/plain": [
       "<Figure size 720x360 with 1 Axes>"
      ]
     },
     "metadata": {},
     "output_type": "display_data"
    },
    {
     "data": {
      "image/png": "[encoded data removed]",
      "text/plain": [
       "<Figure size 720x360 with 1 Axes>"
      ]
     },
     "metadata": {},
     "output_type": "display_data"
    }
   ],
   "source": [
    "for i in aux:\n",
    "    sns.catplot(data=data, x=i, y='is_canceled', kind='bar', height=5, aspect=2);"
   ]
  },
  {
   "cell_type": "markdown",
   "metadata": {},
   "source": [
    "#### Bins test"
   ]
  },
  {
   "cell_type": "code",
   "execution_count": 66,
   "metadata": {},
   "outputs": [
    {
     "data": {
      "image/png": "[encoded data removed]",
      "text/plain": [
       "<Figure size 720x360 with 1 Axes>"
      ]
     },
     "metadata": {},
     "output_type": "display_data"
    }
   ],
   "source": [
    "bins_week = [0, 3, 6, 9, 12]\n",
    "data['stays_in_week_nights'] = pd.cut(data['stays_in_week_nights'], bins_week)\n",
    "\n",
    "sns.catplot(data=data, x='stays_in_week_nights', y='is_canceled', kind='violin', height=5, aspect=2);"
   ]
  },
  {
   "cell_type": "markdown",
   "metadata": {},
   "source": [
    "## Date Analisys"
   ]
  },
  {
   "cell_type": "code",
   "execution_count": 68,
   "metadata": {},
   "outputs": [
    {
     "data": {
      "image/png": "[encoded data removed]",
      "text/plain": [
       "<Figure size 1080x360 with 1 Axes>"
      ]
     },
     "metadata": {},
     "output_type": "display_data"
    },
    {
     "data": {
      "image/png": "[encoded data removed]",
      "text/plain": [
       "<Figure size 1080x360 with 1 Axes>"
      ]
     },
     "metadata": {},
     "output_type": "display_data"
    },
    {
     "data": {
      "image/png": "[encoded data removed]",
      "text/plain": [
       "<Figure size 1080x360 with 1 Axes>"
      ]
     },
     "metadata": {},
     "output_type": "display_data"
    },
    {
     "data": {
      "image/png": "[encoded data removed]",
      "text/plain": [
       "<Figure size 1080x360 with 1 Axes>"
      ]
     },
     "metadata": {},
     "output_type": "display_data"
    }
   ],
   "source": [
    "aux = ['arrival_date_year', 'arrival_date_month', 'arrival_date_week_number', 'arrival_date_day_of_month']\n",
    "for i in aux:\n",
    "    sns.catplot(data=data, x=i, y='is_canceled', kind='bar', height=5, aspect=3);"
   ]
  },
  {
   "cell_type": "code",
   "execution_count": 69,
   "metadata": {},
   "outputs": [],
   "source": [
    "data.drop(['arrival_date_year', 'arrival_date_week_number', 'arrival_date_day_of_month'], axis=1, inplace=True)"
   ]
  },
  {
   "cell_type": "markdown",
   "metadata": {},
   "source": [
    "#### Date name to number"
   ]
  },
  {
   "cell_type": "code",
   "execution_count": 77,
   "metadata": {},
   "outputs": [],
   "source": [
    "data['arrival_date_month'] = data['arrival_date_month'].apply(lambda x: strptime(x,'%B').tm_mon)"
   ]
  },
  {
   "cell_type": "markdown",
   "metadata": {},
   "source": [
    "#### Bins"
   ]
  },
  {
   "cell_type": "code",
   "execution_count": 80,
   "metadata": {},
   "outputs": [],
   "source": [
    "bins = [0, 3, 6, 9, 12]\n",
    "data['arrival_date_month'] = pd.cut(data['arrival_date_month'], bins)"
   ]
  },
  {
   "cell_type": "code",
   "execution_count": 81,
   "metadata": {},
   "outputs": [
    {
     "data": {
      "image/png": "[encoded data removed]",
      "text/plain": [
       "<Figure size 1080x360 with 1 Axes>"
      ]
     },
     "metadata": {},
     "output_type": "display_data"
    }
   ],
   "source": [
    "sns.catplot(data=data, x='arrival_date_month', y='is_canceled', kind='bar', height=5, aspect=3);"
   ]
  },
  {
   "cell_type": "markdown",
   "metadata": {},
   "source": [
    "## Model"
   ]
  },
  {
   "cell_type": "code",
   "execution_count": 111,
   "metadata": {},
   "outputs": [
    {
     "data": {
      "text/html": [
       "<div>\n",
       "<style scoped>\n",
       "    .dataframe tbody tr th:only-of-type {\n",
       "        vertical-align: middle;\n",
       "    }\n",
       "\n",
       "    .dataframe tbody tr th {\n",
       "        vertical-align: top;\n",
       "    }\n",
       "\n",
       "    .dataframe thead th {\n",
       "        text-align: right;\n",
       "    }\n",
       "</style>\n",
       "<table border=\"1\" class=\"dataframe\">\n",
       "  <thead>\n",
       "    <tr style=\"text-align: right;\">\n",
       "      <th></th>\n",
       "      <th>hotel</th>\n",
       "      <th>is_canceled</th>\n",
       "      <th>lead_time</th>\n",
       "      <th>arrival_date_month</th>\n",
       "      <th>stays_in_weekend_nights</th>\n",
       "      <th>stays_in_week_nights</th>\n",
       "      <th>meal</th>\n",
       "      <th>market_segment</th>\n",
       "      <th>distribution_channel</th>\n",
       "      <th>previous_cancellations</th>\n",
       "      <th>assigned_room_type</th>\n",
       "      <th>booking_changes</th>\n",
       "      <th>deposit_type</th>\n",
       "      <th>customer_type</th>\n",
       "      <th>adr</th>\n",
       "      <th>adr_per</th>\n",
       "      <th>agent_level</th>\n",
       "      <th>required_car_parking_spaces</th>\n",
       "      <th>total_of_special_requests</th>\n",
       "    </tr>\n",
       "  </thead>\n",
       "  <tbody>\n",
       "    <tr>\n",
       "      <th>2</th>\n",
       "      <td>Resort Hotel</td>\n",
       "      <td>0</td>\n",
       "      <td>7</td>\n",
       "      <td>(6, 9]</td>\n",
       "      <td>0</td>\n",
       "      <td>(0, 3]</td>\n",
       "      <td>BB</td>\n",
       "      <td>Direct</td>\n",
       "      <td>Direct</td>\n",
       "      <td>0</td>\n",
       "      <td>C</td>\n",
       "      <td>0</td>\n",
       "      <td>No Deposit</td>\n",
       "      <td>Transient</td>\n",
       "      <td>75.0</td>\n",
       "      <td>75.0</td>\n",
       "      <td>lvl3</td>\n",
       "      <td>Zero</td>\n",
       "      <td>0</td>\n",
       "    </tr>\n",
       "    <tr>\n",
       "      <th>3</th>\n",
       "      <td>Resort Hotel</td>\n",
       "      <td>0</td>\n",
       "      <td>13</td>\n",
       "      <td>(6, 9]</td>\n",
       "      <td>0</td>\n",
       "      <td>(0, 3]</td>\n",
       "      <td>BB</td>\n",
       "      <td>Corporate</td>\n",
       "      <td>Corporate</td>\n",
       "      <td>0</td>\n",
       "      <td>A</td>\n",
       "      <td>0</td>\n",
       "      <td>No Deposit</td>\n",
       "      <td>Transient</td>\n",
       "      <td>75.0</td>\n",
       "      <td>75.0</td>\n",
       "      <td>lvl4</td>\n",
       "      <td>Zero</td>\n",
       "      <td>0</td>\n",
       "    </tr>\n",
       "    <tr>\n",
       "      <th>4</th>\n",
       "      <td>Resort Hotel</td>\n",
       "      <td>0</td>\n",
       "      <td>14</td>\n",
       "      <td>(6, 9]</td>\n",
       "      <td>0</td>\n",
       "      <td>(0, 3]</td>\n",
       "      <td>BB</td>\n",
       "      <td>Online TA</td>\n",
       "      <td>TA/TO</td>\n",
       "      <td>0</td>\n",
       "      <td>A</td>\n",
       "      <td>0</td>\n",
       "      <td>No Deposit</td>\n",
       "      <td>Transient</td>\n",
       "      <td>98.0</td>\n",
       "      <td>49.0</td>\n",
       "      <td>lvl3</td>\n",
       "      <td>Zero</td>\n",
       "      <td>1</td>\n",
       "    </tr>\n",
       "    <tr>\n",
       "      <th>5</th>\n",
       "      <td>Resort Hotel</td>\n",
       "      <td>0</td>\n",
       "      <td>14</td>\n",
       "      <td>(6, 9]</td>\n",
       "      <td>0</td>\n",
       "      <td>(0, 3]</td>\n",
       "      <td>BB</td>\n",
       "      <td>Online TA</td>\n",
       "      <td>TA/TO</td>\n",
       "      <td>0</td>\n",
       "      <td>A</td>\n",
       "      <td>0</td>\n",
       "      <td>No Deposit</td>\n",
       "      <td>Transient</td>\n",
       "      <td>98.0</td>\n",
       "      <td>49.0</td>\n",
       "      <td>lvl3</td>\n",
       "      <td>Zero</td>\n",
       "      <td>1</td>\n",
       "    </tr>\n",
       "    <tr>\n",
       "      <th>6</th>\n",
       "      <td>Resort Hotel</td>\n",
       "      <td>0</td>\n",
       "      <td>0</td>\n",
       "      <td>(6, 9]</td>\n",
       "      <td>0</td>\n",
       "      <td>(0, 3]</td>\n",
       "      <td>BB</td>\n",
       "      <td>Direct</td>\n",
       "      <td>Direct</td>\n",
       "      <td>0</td>\n",
       "      <td>C</td>\n",
       "      <td>0</td>\n",
       "      <td>No Deposit</td>\n",
       "      <td>Transient</td>\n",
       "      <td>107.0</td>\n",
       "      <td>53.5</td>\n",
       "      <td>lvl3</td>\n",
       "      <td>Zero</td>\n",
       "      <td>0</td>\n",
       "    </tr>\n",
       "  </tbody>\n",
       "</table>\n",
       "</div>"
      ],
      "text/plain": [
       "          hotel  is_canceled  lead_time arrival_date_month  \\\n",
       "2  Resort Hotel            0          7             (6, 9]   \n",
       "3  Resort Hotel            0         13             (6, 9]   \n",
       "4  Resort Hotel            0         14             (6, 9]   \n",
       "5  Resort Hotel            0         14             (6, 9]   \n",
       "6  Resort Hotel            0          0             (6, 9]   \n",
       "\n",
       "   stays_in_weekend_nights stays_in_week_nights meal market_segment  \\\n",
       "2                        0               (0, 3]   BB         Direct   \n",
       "3                        0               (0, 3]   BB      Corporate   \n",
       "4                        0               (0, 3]   BB      Online TA   \n",
       "5                        0               (0, 3]   BB      Online TA   \n",
       "6                        0               (0, 3]   BB         Direct   \n",
       "\n",
       "  distribution_channel previous_cancellations assigned_room_type  \\\n",
       "2               Direct                      0                  C   \n",
       "3            Corporate                      0                  A   \n",
       "4                TA/TO                      0                  A   \n",
       "5                TA/TO                      0                  A   \n",
       "6               Direct                      0                  C   \n",
       "\n",
       "   booking_changes deposit_type customer_type    adr  adr_per agent_level  \\\n",
       "2                0   No Deposit     Transient   75.0     75.0        lvl3   \n",
       "3                0   No Deposit     Transient   75.0     75.0        lvl4   \n",
       "4                0   No Deposit     Transient   98.0     49.0        lvl3   \n",
       "5                0   No Deposit     Transient   98.0     49.0        lvl3   \n",
       "6                0   No Deposit     Transient  107.0     53.5        lvl3   \n",
       "\n",
       "  required_car_parking_spaces  total_of_special_requests  \n",
       "2                        Zero                          0  \n",
       "3                        Zero                          0  \n",
       "4                        Zero                          1  \n",
       "5                        Zero                          1  \n",
       "6                        Zero                          0  "
      ]
     },
     "execution_count": 111,
     "metadata": {},
     "output_type": "execute_result"
    }
   ],
   "source": [
    "data.head(5)"
   ]
  },
  {
   "cell_type": "code",
   "execution_count": 138,
   "metadata": {
    "scrolled": true
   },
   "outputs": [
    {
     "data": {
      "text/html": [
       "<div>\n",
       "<style scoped>\n",
       "    .dataframe tbody tr th:only-of-type {\n",
       "        vertical-align: middle;\n",
       "    }\n",
       "\n",
       "    .dataframe tbody tr th {\n",
       "        vertical-align: top;\n",
       "    }\n",
       "\n",
       "    .dataframe thead th {\n",
       "        text-align: right;\n",
       "    }\n",
       "</style>\n",
       "<table border=\"1\" class=\"dataframe\">\n",
       "  <thead>\n",
       "    <tr style=\"text-align: right;\">\n",
       "      <th></th>\n",
       "      <th>is_canceled</th>\n",
       "      <th>lead_time</th>\n",
       "      <th>stays_in_weekend_nights</th>\n",
       "      <th>booking_changes</th>\n",
       "      <th>adr_per</th>\n",
       "      <th>total_of_special_requests</th>\n",
       "      <th>hotel_City Hotel</th>\n",
       "      <th>hotel_Resort Hotel</th>\n",
       "      <th>arrival_date_month_(0, 3]</th>\n",
       "      <th>arrival_date_month_(3, 6]</th>\n",
       "      <th>arrival_date_month_(6, 9]</th>\n",
       "      <th>arrival_date_month_(9, 12]</th>\n",
       "      <th>stays_in_week_nights_(0, 3]</th>\n",
       "      <th>stays_in_week_nights_(3, 6]</th>\n",
       "      <th>stays_in_week_nights_(6, 9]</th>\n",
       "      <th>stays_in_week_nights_(9, 12]</th>\n",
       "      <th>meal_BB</th>\n",
       "      <th>meal_FB</th>\n",
       "      <th>meal_HB</th>\n",
       "      <th>meal_SC</th>\n",
       "      <th>meal_Undefined</th>\n",
       "      <th>market_segment_Aviation</th>\n",
       "      <th>market_segment_Complementary</th>\n",
       "      <th>market_segment_Corporate</th>\n",
       "      <th>market_segment_Direct</th>\n",
       "      <th>market_segment_Groups</th>\n",
       "      <th>market_segment_Offline TA/TO</th>\n",
       "      <th>market_segment_Online TA</th>\n",
       "      <th>market_segment_Undefined</th>\n",
       "      <th>distribution_channel_Corporate</th>\n",
       "      <th>distribution_channel_Direct</th>\n",
       "      <th>distribution_channel_GDS</th>\n",
       "      <th>distribution_channel_TA/TO</th>\n",
       "      <th>distribution_channel_Undefined</th>\n",
       "      <th>previous_cancellations_1</th>\n",
       "      <th>previous_cancellations_0</th>\n",
       "      <th>assigned_room_type_A</th>\n",
       "      <th>assigned_room_type_B</th>\n",
       "      <th>assigned_room_type_C</th>\n",
       "      <th>assigned_room_type_D</th>\n",
       "      <th>assigned_room_type_E</th>\n",
       "      <th>assigned_room_type_F</th>\n",
       "      <th>assigned_room_type_G</th>\n",
       "      <th>assigned_room_type_H</th>\n",
       "      <th>assigned_room_type_I</th>\n",
       "      <th>assigned_room_type_K</th>\n",
       "      <th>deposit_type_No Deposit</th>\n",
       "      <th>deposit_type_Non Refund</th>\n",
       "      <th>deposit_type_Refundable</th>\n",
       "      <th>customer_type_Contract</th>\n",
       "      <th>customer_type_Group</th>\n",
       "      <th>customer_type_Transient</th>\n",
       "      <th>customer_type_Transient-Party</th>\n",
       "      <th>agent_level_lvl1</th>\n",
       "      <th>agent_level_lvl2</th>\n",
       "      <th>agent_level_lvl3</th>\n",
       "      <th>agent_level_lvl4</th>\n",
       "      <th>agent_level_lvl5</th>\n",
       "      <th>required_car_parking_spaces_Above Zero</th>\n",
       "      <th>required_car_parking_spaces_Zero</th>\n",
       "    </tr>\n",
       "  </thead>\n",
       "  <tbody>\n",
       "    <tr>\n",
       "      <th>2</th>\n",
       "      <td>0</td>\n",
       "      <td>7</td>\n",
       "      <td>0</td>\n",
       "      <td>0</td>\n",
       "      <td>75.0</td>\n",
       "      <td>0</td>\n",
       "      <td>0</td>\n",
       "      <td>1</td>\n",
       "      <td>0</td>\n",
       "      <td>0</td>\n",
       "      <td>1</td>\n",
       "      <td>0</td>\n",
       "      <td>1</td>\n",
       "      <td>0</td>\n",
       "      <td>0</td>\n",
       "      <td>0</td>\n",
       "      <td>1</td>\n",
       "      <td>0</td>\n",
       "      <td>0</td>\n",
       "      <td>0</td>\n",
       "      <td>0</td>\n",
       "      <td>0</td>\n",
       "      <td>0</td>\n",
       "      <td>0</td>\n",
       "      <td>1</td>\n",
       "      <td>0</td>\n",
       "      <td>0</td>\n",
       "      <td>0</td>\n",
       "      <td>0</td>\n",
       "      <td>0</td>\n",
       "      <td>1</td>\n",
       "      <td>0</td>\n",
       "      <td>0</td>\n",
       "      <td>0</td>\n",
       "      <td>0</td>\n",
       "      <td>1</td>\n",
       "      <td>0</td>\n",
       "      <td>0</td>\n",
       "      <td>1</td>\n",
       "      <td>0</td>\n",
       "      <td>0</td>\n",
       "      <td>0</td>\n",
       "      <td>0</td>\n",
       "      <td>0</td>\n",
       "      <td>0</td>\n",
       "      <td>0</td>\n",
       "      <td>1</td>\n",
       "      <td>0</td>\n",
       "      <td>0</td>\n",
       "      <td>0</td>\n",
       "      <td>0</td>\n",
       "      <td>1</td>\n",
       "      <td>0</td>\n",
       "      <td>0</td>\n",
       "      <td>0</td>\n",
       "      <td>1</td>\n",
       "      <td>0</td>\n",
       "      <td>0</td>\n",
       "      <td>0</td>\n",
       "      <td>1</td>\n",
       "    </tr>\n",
       "    <tr>\n",
       "      <th>3</th>\n",
       "      <td>0</td>\n",
       "      <td>13</td>\n",
       "      <td>0</td>\n",
       "      <td>0</td>\n",
       "      <td>75.0</td>\n",
       "      <td>0</td>\n",
       "      <td>0</td>\n",
       "      <td>1</td>\n",
       "      <td>0</td>\n",
       "      <td>0</td>\n",
       "      <td>1</td>\n",
       "      <td>0</td>\n",
       "      <td>1</td>\n",
       "      <td>0</td>\n",
       "      <td>0</td>\n",
       "      <td>0</td>\n",
       "      <td>1</td>\n",
       "      <td>0</td>\n",
       "      <td>0</td>\n",
       "      <td>0</td>\n",
       "      <td>0</td>\n",
       "      <td>0</td>\n",
       "      <td>0</td>\n",
       "      <td>1</td>\n",
       "      <td>0</td>\n",
       "      <td>0</td>\n",
       "      <td>0</td>\n",
       "      <td>0</td>\n",
       "      <td>0</td>\n",
       "      <td>1</td>\n",
       "      <td>0</td>\n",
       "      <td>0</td>\n",
       "      <td>0</td>\n",
       "      <td>0</td>\n",
       "      <td>0</td>\n",
       "      <td>1</td>\n",
       "      <td>1</td>\n",
       "      <td>0</td>\n",
       "      <td>0</td>\n",
       "      <td>0</td>\n",
       "      <td>0</td>\n",
       "      <td>0</td>\n",
       "      <td>0</td>\n",
       "      <td>0</td>\n",
       "      <td>0</td>\n",
       "      <td>0</td>\n",
       "      <td>1</td>\n",
       "      <td>0</td>\n",
       "      <td>0</td>\n",
       "      <td>0</td>\n",
       "      <td>0</td>\n",
       "      <td>1</td>\n",
       "      <td>0</td>\n",
       "      <td>0</td>\n",
       "      <td>0</td>\n",
       "      <td>0</td>\n",
       "      <td>1</td>\n",
       "      <td>0</td>\n",
       "      <td>0</td>\n",
       "      <td>1</td>\n",
       "    </tr>\n",
       "    <tr>\n",
       "      <th>4</th>\n",
       "      <td>0</td>\n",
       "      <td>14</td>\n",
       "      <td>0</td>\n",
       "      <td>0</td>\n",
       "      <td>49.0</td>\n",
       "      <td>1</td>\n",
       "      <td>0</td>\n",
       "      <td>1</td>\n",
       "      <td>0</td>\n",
       "      <td>0</td>\n",
       "      <td>1</td>\n",
       "      <td>0</td>\n",
       "      <td>1</td>\n",
       "      <td>0</td>\n",
       "      <td>0</td>\n",
       "      <td>0</td>\n",
       "      <td>1</td>\n",
       "      <td>0</td>\n",
       "      <td>0</td>\n",
       "      <td>0</td>\n",
       "      <td>0</td>\n",
       "      <td>0</td>\n",
       "      <td>0</td>\n",
       "      <td>0</td>\n",
       "      <td>0</td>\n",
       "      <td>0</td>\n",
       "      <td>0</td>\n",
       "      <td>1</td>\n",
       "      <td>0</td>\n",
       "      <td>0</td>\n",
       "      <td>0</td>\n",
       "      <td>0</td>\n",
       "      <td>1</td>\n",
       "      <td>0</td>\n",
       "      <td>0</td>\n",
       "      <td>1</td>\n",
       "      <td>1</td>\n",
       "      <td>0</td>\n",
       "      <td>0</td>\n",
       "      <td>0</td>\n",
       "      <td>0</td>\n",
       "      <td>0</td>\n",
       "      <td>0</td>\n",
       "      <td>0</td>\n",
       "      <td>0</td>\n",
       "      <td>0</td>\n",
       "      <td>1</td>\n",
       "      <td>0</td>\n",
       "      <td>0</td>\n",
       "      <td>0</td>\n",
       "      <td>0</td>\n",
       "      <td>1</td>\n",
       "      <td>0</td>\n",
       "      <td>0</td>\n",
       "      <td>0</td>\n",
       "      <td>1</td>\n",
       "      <td>0</td>\n",
       "      <td>0</td>\n",
       "      <td>0</td>\n",
       "      <td>1</td>\n",
       "    </tr>\n",
       "    <tr>\n",
       "      <th>5</th>\n",
       "      <td>0</td>\n",
       "      <td>14</td>\n",
       "      <td>0</td>\n",
       "      <td>0</td>\n",
       "      <td>49.0</td>\n",
       "      <td>1</td>\n",
       "      <td>0</td>\n",
       "      <td>1</td>\n",
       "      <td>0</td>\n",
       "      <td>0</td>\n",
       "      <td>1</td>\n",
       "      <td>0</td>\n",
       "      <td>1</td>\n",
       "      <td>0</td>\n",
       "      <td>0</td>\n",
       "      <td>0</td>\n",
       "      <td>1</td>\n",
       "      <td>0</td>\n",
       "      <td>0</td>\n",
       "      <td>0</td>\n",
       "      <td>0</td>\n",
       "      <td>0</td>\n",
       "      <td>0</td>\n",
       "      <td>0</td>\n",
       "      <td>0</td>\n",
       "      <td>0</td>\n",
       "      <td>0</td>\n",
       "      <td>1</td>\n",
       "      <td>0</td>\n",
       "      <td>0</td>\n",
       "      <td>0</td>\n",
       "      <td>0</td>\n",
       "      <td>1</td>\n",
       "      <td>0</td>\n",
       "      <td>0</td>\n",
       "      <td>1</td>\n",
       "      <td>1</td>\n",
       "      <td>0</td>\n",
       "      <td>0</td>\n",
       "      <td>0</td>\n",
       "      <td>0</td>\n",
       "      <td>0</td>\n",
       "      <td>0</td>\n",
       "      <td>0</td>\n",
       "      <td>0</td>\n",
       "      <td>0</td>\n",
       "      <td>1</td>\n",
       "      <td>0</td>\n",
       "      <td>0</td>\n",
       "      <td>0</td>\n",
       "      <td>0</td>\n",
       "      <td>1</td>\n",
       "      <td>0</td>\n",
       "      <td>0</td>\n",
       "      <td>0</td>\n",
       "      <td>1</td>\n",
       "      <td>0</td>\n",
       "      <td>0</td>\n",
       "      <td>0</td>\n",
       "      <td>1</td>\n",
       "    </tr>\n",
       "    <tr>\n",
       "      <th>6</th>\n",
       "      <td>0</td>\n",
       "      <td>0</td>\n",
       "      <td>0</td>\n",
       "      <td>0</td>\n",
       "      <td>53.5</td>\n",
       "      <td>0</td>\n",
       "      <td>0</td>\n",
       "      <td>1</td>\n",
       "      <td>0</td>\n",
       "      <td>0</td>\n",
       "      <td>1</td>\n",
       "      <td>0</td>\n",
       "      <td>1</td>\n",
       "      <td>0</td>\n",
       "      <td>0</td>\n",
       "      <td>0</td>\n",
       "      <td>1</td>\n",
       "      <td>0</td>\n",
       "      <td>0</td>\n",
       "      <td>0</td>\n",
       "      <td>0</td>\n",
       "      <td>0</td>\n",
       "      <td>0</td>\n",
       "      <td>0</td>\n",
       "      <td>1</td>\n",
       "      <td>0</td>\n",
       "      <td>0</td>\n",
       "      <td>0</td>\n",
       "      <td>0</td>\n",
       "      <td>0</td>\n",
       "      <td>1</td>\n",
       "      <td>0</td>\n",
       "      <td>0</td>\n",
       "      <td>0</td>\n",
       "      <td>0</td>\n",
       "      <td>1</td>\n",
       "      <td>0</td>\n",
       "      <td>0</td>\n",
       "      <td>1</td>\n",
       "      <td>0</td>\n",
       "      <td>0</td>\n",
       "      <td>0</td>\n",
       "      <td>0</td>\n",
       "      <td>0</td>\n",
       "      <td>0</td>\n",
       "      <td>0</td>\n",
       "      <td>1</td>\n",
       "      <td>0</td>\n",
       "      <td>0</td>\n",
       "      <td>0</td>\n",
       "      <td>0</td>\n",
       "      <td>1</td>\n",
       "      <td>0</td>\n",
       "      <td>0</td>\n",
       "      <td>0</td>\n",
       "      <td>1</td>\n",
       "      <td>0</td>\n",
       "      <td>0</td>\n",
       "      <td>0</td>\n",
       "      <td>1</td>\n",
       "    </tr>\n",
       "  </tbody>\n",
       "</table>\n",
       "</div>"
      ],
      "text/plain": [
       "   is_canceled  lead_time  stays_in_weekend_nights  booking_changes  adr_per  \\\n",
       "2            0          7                        0                0     75.0   \n",
       "3            0         13                        0                0     75.0   \n",
       "4            0         14                        0                0     49.0   \n",
       "5            0         14                        0                0     49.0   \n",
       "6            0          0                        0                0     53.5   \n",
       "\n",
       "   total_of_special_requests  hotel_City Hotel  hotel_Resort Hotel  \\\n",
       "2                          0                 0                   1   \n",
       "3                          0                 0                   1   \n",
       "4                          1                 0                   1   \n",
       "5                          1                 0                   1   \n",
       "6                          0                 0                   1   \n",
       "\n",
       "   arrival_date_month_(0, 3]  arrival_date_month_(3, 6]  \\\n",
       "2                          0                          0   \n",
       "3                          0                          0   \n",
       "4                          0                          0   \n",
       "5                          0                          0   \n",
       "6                          0                          0   \n",
       "\n",
       "   arrival_date_month_(6, 9]  arrival_date_month_(9, 12]  \\\n",
       "2                          1                           0   \n",
       "3                          1                           0   \n",
       "4                          1                           0   \n",
       "5                          1                           0   \n",
       "6                          1                           0   \n",
       "\n",
       "   stays_in_week_nights_(0, 3]  stays_in_week_nights_(3, 6]  \\\n",
       "2                            1                            0   \n",
       "3                            1                            0   \n",
       "4                            1                            0   \n",
       "5                            1                            0   \n",
       "6                            1                            0   \n",
       "\n",
       "   stays_in_week_nights_(6, 9]  stays_in_week_nights_(9, 12]  meal_BB  \\\n",
       "2                            0                             0        1   \n",
       "3                            0                             0        1   \n",
       "4                            0                             0        1   \n",
       "5                            0                             0        1   \n",
       "6                            0                             0        1   \n",
       "\n",
       "   meal_FB  meal_HB  meal_SC  meal_Undefined  market_segment_Aviation  \\\n",
       "2        0        0        0               0                        0   \n",
       "3        0        0        0               0                        0   \n",
       "4        0        0        0               0                        0   \n",
       "5        0        0        0               0                        0   \n",
       "6        0        0        0               0                        0   \n",
       "\n",
       "   market_segment_Complementary  market_segment_Corporate  \\\n",
       "2                             0                         0   \n",
       "3                             0                         1   \n",
       "4                             0                         0   \n",
       "5                             0                         0   \n",
       "6                             0                         0   \n",
       "\n",
       "   market_segment_Direct  market_segment_Groups  market_segment_Offline TA/TO  \\\n",
       "2                      1                      0                             0   \n",
       "3                      0                      0                             0   \n",
       "4                      0                      0                             0   \n",
       "5                      0                      0                             0   \n",
       "6                      1                      0                             0   \n",
       "\n",
       "   market_segment_Online TA  market_segment_Undefined  \\\n",
       "2                         0                         0   \n",
       "3                         0                         0   \n",
       "4                         1                         0   \n",
       "5                         1                         0   \n",
       "6                         0                         0   \n",
       "\n",
       "   distribution_channel_Corporate  distribution_channel_Direct  \\\n",
       "2                               0                            1   \n",
       "3                               1                            0   \n",
       "4                               0                            0   \n",
       "5                               0                            0   \n",
       "6                               0                            1   \n",
       "\n",
       "   distribution_channel_GDS  distribution_channel_TA/TO  \\\n",
       "2                         0                           0   \n",
       "3                         0                           0   \n",
       "4                         0                           1   \n",
       "5                         0                           1   \n",
       "6                         0                           0   \n",
       "\n",
       "   distribution_channel_Undefined  previous_cancellations_1  \\\n",
       "2                               0                         0   \n",
       "3                               0                         0   \n",
       "4                               0                         0   \n",
       "5                               0                         0   \n",
       "6                               0                         0   \n",
       "\n",
       "   previous_cancellations_0  assigned_room_type_A  assigned_room_type_B  \\\n",
       "2                         1                     0                     0   \n",
       "3                         1                     1                     0   \n",
       "4                         1                     1                     0   \n",
       "5                         1                     1                     0   \n",
       "6                         1                     0                     0   \n",
       "\n",
       "   assigned_room_type_C  assigned_room_type_D  assigned_room_type_E  \\\n",
       "2                     1                     0                     0   \n",
       "3                     0                     0                     0   \n",
       "4                     0                     0                     0   \n",
       "5                     0                     0                     0   \n",
       "6                     1                     0                     0   \n",
       "\n",
       "   assigned_room_type_F  assigned_room_type_G  assigned_room_type_H  \\\n",
       "2                     0                     0                     0   \n",
       "3                     0                     0                     0   \n",
       "4                     0                     0                     0   \n",
       "5                     0                     0                     0   \n",
       "6                     0                     0                     0   \n",
       "\n",
       "   assigned_room_type_I  assigned_room_type_K  deposit_type_No Deposit  \\\n",
       "2                     0                     0                        1   \n",
       "3                     0                     0                        1   \n",
       "4                     0                     0                        1   \n",
       "5                     0                     0                        1   \n",
       "6                     0                     0                        1   \n",
       "\n",
       "   deposit_type_Non Refund  deposit_type_Refundable  customer_type_Contract  \\\n",
       "2                        0                        0                       0   \n",
       "3                        0                        0                       0   \n",
       "4                        0                        0                       0   \n",
       "5                        0                        0                       0   \n",
       "6                        0                        0                       0   \n",
       "\n",
       "   customer_type_Group  customer_type_Transient  \\\n",
       "2                    0                        1   \n",
       "3                    0                        1   \n",
       "4                    0                        1   \n",
       "5                    0                        1   \n",
       "6                    0                        1   \n",
       "\n",
       "   customer_type_Transient-Party  agent_level_lvl1  agent_level_lvl2  \\\n",
       "2                              0                 0                 0   \n",
       "3                              0                 0                 0   \n",
       "4                              0                 0                 0   \n",
       "5                              0                 0                 0   \n",
       "6                              0                 0                 0   \n",
       "\n",
       "   agent_level_lvl3  agent_level_lvl4  agent_level_lvl5  \\\n",
       "2                 1                 0                 0   \n",
       "3                 0                 1                 0   \n",
       "4                 1                 0                 0   \n",
       "5                 1                 0                 0   \n",
       "6                 1                 0                 0   \n",
       "\n",
       "   required_car_parking_spaces_Above Zero  required_car_parking_spaces_Zero  \n",
       "2                                       0                                 1  \n",
       "3                                       0                                 1  \n",
       "4                                       0                                 1  \n",
       "5                                       0                                 1  \n",
       "6                                       0                                 1  "
      ]
     },
     "execution_count": 138,
     "metadata": {},
     "output_type": "execute_result"
    }
   ],
   "source": [
    "data_dum = pd.get_dummies(data.drop(['adr'], axis=1))\n",
    "data_dum.head(5)"
   ]
  },
  {
   "cell_type": "code",
   "execution_count": 139,
   "metadata": {},
   "outputs": [],
   "source": [
    "x = data_dum.drop('is_canceled', axis=1).values\n",
    "y = data_dum['is_canceled'].values\n",
    "\n",
    "x_train, x_test, y_train, y_test = train_test_split(x, y, random_state=0, test_size=0.2)"
   ]
  },
  {
   "cell_type": "code",
   "execution_count": 140,
   "metadata": {},
   "outputs": [
    {
     "data": {
      "text/plain": [
       "0.8439381309623043"
      ]
     },
     "execution_count": 140,
     "metadata": {},
     "output_type": "execute_result"
    }
   ],
   "source": [
    "xgb = XGBClassifier(n_estimators=300, n_jobs=-1).fit(x_train, y_train)\n",
    "accuracy_score(y_test, xgb.predict(x_test))"
   ]
  }
 ],
 "metadata": {
  "kernelspec": {
   "display_name": "Python 3",
   "language": "python",
   "name": "python3"
  },
  "language_info": {
   "codemirror_mode": {
    "name": "ipython",
    "version": 3
   },
   "file_extension": ".py",
   "mimetype": "text/x-python",
   "name": "python",
   "nbconvert_exporter": "python",
   "pygments_lexer": "ipython3",
   "version": "3.8.3"
  }
 },
 "nbformat": 4,
 "nbformat_minor": 4
}
